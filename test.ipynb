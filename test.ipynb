{
 "cells": [
  {
   "cell_type": "code",
   "execution_count": 2,
   "source": [
    "import urllib\n",
    "\n",
    "from wand.image import Image\n",
    "from wand.display import display\n",
    "\n",
    "with Image(filename='image2.jpg') as bg_img:\n",
    "    with Image(filename='image1.jpg') as fg_img:\n",
    "        bg_img.composite(fg_img, left=100, top=100)\n",
    "    display(bg_img)"
   ],
   "outputs": [],
   "metadata": {}
  },
  {
   "cell_type": "code",
   "execution_count": 7,
   "source": [
    "import os\n",
    "import itertools\n",
    "\n",
    "def get_layer_list():\n",
    "    layer_list=os.listdir('layers')\n",
    "    index = layer_list.index(\".DS_Store\")\n",
    "    del layer_list[index]\n",
    "    layer_list.sort()\n",
    "    layer_list\n",
    "    return layer_list\n",
    "\n",
    "def permute():\n",
    "    layer_list=get_layer_list()\n",
    "    layer_lol=[]\n",
    "    for layer in layer_list:\n",
    "        layer_lol.append(os.listdir(f'layers/{layer}'))\n",
    "    permutations=list(itertools.product(*layer_lol))\n",
    "    return permutations\n",
    "\n",
    "def composite_all_permutations():\n",
    "    perms=permute()\n",
    "    print(perms)\n",
    "    for count, perm in enumerate(perms):\n",
    "        with Image(filename=f'layers/layer_1/{perm[0]}') as l1:\n",
    "            with Image(filename=f'layers/layer_2/{perm[1]}') as l2:\n",
    "                with Image(filename=f'layers/layer_3/{perm[2]}') as l3:\n",
    "                    with Image(filename=f'layers/layer_4/{perm[3]}') as l4:\n",
    "                            with Image(filename=f'layers/layer_5/{perm[4]}') as l5:\n",
    "                                with Image(filename=f'layers/layer_6/{perm[5]}') as l6:\n",
    "                                    l1.composite(l2)\n",
    "                                    l1.composite(l3)\n",
    "                                    l1.composite(l4)\n",
    "                                    l1.composite(l5)\n",
    "                                    l1.composite(l6)\n",
    "                                    l1.save(filename=f'output/permutations/permutation{count}.png')\n",
    "composite_all_permutations()\n"
   ],
   "outputs": [
    {
     "output_type": "stream",
     "name": "stdout",
     "text": [
      "[('wqesdf.png', 'asdf.png', 'adsf.png', 'adsf.png', 'afsasfd.png', 'afssf.png'), ('layer1c.png', 'asdf.png', 'adsf.png', 'adsf.png', 'afsasfd.png', 'afssf.png')]\n"
     ]
    }
   ],
   "metadata": {}
  },
  {
   "cell_type": "code",
   "execution_count": 2,
   "source": [
    "a= \"background.png\"\n",
    "a[:-4]"
   ],
   "outputs": [
    {
     "output_type": "execute_result",
     "data": {
      "text/plain": [
       "'background'"
      ]
     },
     "metadata": {},
     "execution_count": 2
    }
   ],
   "metadata": {}
  },
  {
   "cell_type": "code",
   "execution_count": null,
   "source": [
    "arr=['layers/layer_1/bg_11.png', 'layers/layer_2/mg_5.png', 'layers/layer_3/f_4.png', 'layers/layer_4/ac_9.png', 'layers/layer_5/acc_2.png', 'layers/layer_6/r_3.png', 'layers/layer_7/mgg_2.png', 'layers/layer_8/c_7.png']"
   ],
   "outputs": [],
   "metadata": {}
  }
 ],
 "metadata": {
  "orig_nbformat": 4,
  "language_info": {
   "name": "python",
   "version": "3.9.7",
   "mimetype": "text/x-python",
   "codemirror_mode": {
    "name": "ipython",
    "version": 3
   },
   "pygments_lexer": "ipython3",
   "nbconvert_exporter": "python",
   "file_extension": ".py"
  },
  "kernelspec": {
   "name": "python3",
   "display_name": "Python 3.9.7 64-bit"
  },
  "interpreter": {
   "hash": "aee8b7b246df8f9039afb4144a1f6fd8d2ca17a180786b69acc140d282b71a49"
  }
 },
 "nbformat": 4,
 "nbformat_minor": 2
}